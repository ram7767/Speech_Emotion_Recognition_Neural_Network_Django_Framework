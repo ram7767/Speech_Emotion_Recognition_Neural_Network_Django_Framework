{
 "cells": [
  {
   "cell_type": "code",
   "execution_count": 1,
   "metadata": {},
   "outputs": [],
   "source": [
    "import librosa\n",
    "import soundfile\n",
    "import os, glob, pickle\n",
    "import pyttsx3\n",
    "import numpy as np\n",
    "import pyaudio\n",
    "import numpy\n",
    "import speech_recognition as sr\n",
    "from sklearn.model_selection import train_test_split\n",
    "from sklearn.neural_network import MLPClassifier\n",
    "from sklearn.metrics import accuracy_score"
   ]
  },
  {
   "cell_type": "code",
   "execution_count": 2,
   "metadata": {},
   "outputs": [],
   "source": [
    "import warnings\n",
    "warnings.filterwarnings(\"ignore\")"
   ]
  },
  {
   "cell_type": "code",
   "execution_count": 3,
   "metadata": {},
   "outputs": [],
   "source": [
    "def extract_feature(file_name, mfcc, chroma, mel):\n",
    "    with soundfile.SoundFile(file_name) as sound_file:\n",
    "        X = sound_file.read(dtype=\"float32\")\n",
    "        sample_rate=sound_file.samplerate\n",
    "        if chroma:\n",
    "            stft=np.abs(librosa.stft(X))\n",
    "        result=np.array([])\n",
    "        if mfcc:\n",
    "            mfccs=np.mean(librosa.feature.mfcc(y=X, sr=sample_rate, n_mfcc=40).T, axis=0)\n",
    "            result=np.hstack((result, mfccs))\n",
    "        if chroma:\n",
    "            chroma=np.mean(librosa.feature.chroma_stft(S=stft, sr=sample_rate).T,axis=0)\n",
    "            result=np.hstack((result, chroma))\n",
    "        if mel:\n",
    "            mel=np.mean(librosa.feature.melspectrogram(X, sr=sample_rate).T,axis=0)\n",
    "            result=np.hstack((result, mel))\n",
    "            return result\n"
   ]
  },
  {
   "cell_type": "code",
   "execution_count": 4,
   "metadata": {},
   "outputs": [],
   "source": [
    "emotions={\n",
    "  '01':'neutral',\n",
    "  '02':'calm',\n",
    "  '03':'happy',\n",
    "  '04':'sad',\n",
    "  '05':'angry',\n",
    "  '06':'fearful',\n",
    "  '07':'disgust',\n",
    "  '08':'surprised'\n",
    "}\n",
    "speaker = pyttsx3.init()\n",
    "speaker.setProperty(\"rate\", 180)\n",
    "\n",
    "\n",
    "listener = sr.Recognizer()\n",
    "observed_emotions=[ 'happy', 'surprised','sad']\n"
   ]
  },
  {
   "cell_type": "code",
   "execution_count": 5,
   "metadata": {},
   "outputs": [],
   "source": [
    "def talk(text):\n",
    "    speaker.say(text)\n",
    "    speaker.runAndWait()"
   ]
  },
  {
   "cell_type": "code",
   "execution_count": 6,
   "metadata": {},
   "outputs": [],
   "source": [
    "def get_info() :      \n",
    "    with sr.Microphone() as source:\n",
    "        print('listening...')\n",
    "        voice = listener.record(source,duration=4)\n",
    "\n",
    "        try:\n",
    "            info = listener.recognize_google(voice)\n",
    "            #print(format(info))\n",
    "            return info.lower()\n",
    "\n",
    "        except:\n",
    "            talk('did not hear properly please speak loudly')\n",
    "            get_info()"
   ]
  },
  {
   "cell_type": "code",
   "execution_count": 7,
   "metadata": {},
   "outputs": [],
   "source": [
    "def load_data(test_size=0.2):\n",
    "    x,y=[],[]\n",
    "    for file in glob.glob(\"Actor_*\\\\*.wav\"):\n",
    "        file_name=os.path.basename(file)\n",
    "        emotion=emotions[file_name.split(\"-\")[2]]\n",
    "        if emotion not in observed_emotions:\n",
    "            continue\n",
    "        feature=extract_feature(file, mfcc=True, chroma=True, mel=True)\n",
    "        x.append(feature)\n",
    "        y.append(emotion)\n",
    "    return train_test_split(np.array(x), y, test_size=test_size, random_state=9)"
   ]
  },
  {
   "cell_type": "code",
   "execution_count": 8,
   "metadata": {},
   "outputs": [
    {
     "name": "stdout",
     "output_type": "stream",
     "text": [
      "listening...\n",
      "result2:\n",
      "[]\n",
      "listening...\n",
      "result2:\n",
      "{   'alternative': [{'confidence': 0.88687539, 'transcript': 'hello'}],\n",
      "    'final': True}\n",
      "None\n"
     ]
    },
    {
     "ename": "TypeError",
     "evalue": "melspectrogram() takes 0 positional arguments but 1 positional argument (and 1 keyword-only argument) were given",
     "output_type": "error",
     "traceback": [
      "\u001b[1;31m---------------------------------------------------------------------------\u001b[0m",
      "\u001b[1;31mTypeError\u001b[0m                                 Traceback (most recent call last)",
      "Cell \u001b[1;32mIn[8], line 35\u001b[0m\n\u001b[0;32m     31\u001b[0m     file\u001b[39m=\u001b[39m\u001b[39m\"\u001b[39m\u001b[39mout.wav\u001b[39m\u001b[39m\"\u001b[39m\n\u001b[0;32m     32\u001b[0m     feature\u001b[39m=\u001b[39mextract_feature(file,mfcc\u001b[39m=\u001b[39m\u001b[39mTrue\u001b[39;00m,chroma\u001b[39m=\u001b[39m\u001b[39mTrue\u001b[39;00m,mel\u001b[39m=\u001b[39m\u001b[39mTrue\u001b[39;00m)\n\u001b[1;32m---> 35\u001b[0m x_train,x_test,y_train,y_test\u001b[39m=\u001b[39mload_data(test_size\u001b[39m=\u001b[39;49m\u001b[39m0.2\u001b[39;49m)\n\u001b[0;32m     37\u001b[0m \u001b[39m# print((x_train.shape[0], x_test.shape[0]))\u001b[39;00m\n\u001b[0;32m     38\u001b[0m \u001b[39m# print(f'Features extracted: {x_train.shape[1]}')\u001b[39;00m\n\u001b[0;32m     40\u001b[0m model\u001b[39m=\u001b[39mMLPClassifier(alpha\u001b[39m=\u001b[39m\u001b[39m0.01\u001b[39m, batch_size\u001b[39m=\u001b[39m\u001b[39m256\u001b[39m, epsilon\u001b[39m=\u001b[39m\u001b[39m1e-08\u001b[39m, hidden_layer_sizes\u001b[39m=\u001b[39m(\u001b[39m300\u001b[39m,), learning_rate\u001b[39m=\u001b[39m\u001b[39m'\u001b[39m\u001b[39madaptive\u001b[39m\u001b[39m'\u001b[39m, max_iter\u001b[39m=\u001b[39m\u001b[39m500\u001b[39m)\n",
      "Cell \u001b[1;32mIn[7], line 8\u001b[0m, in \u001b[0;36mload_data\u001b[1;34m(test_size)\u001b[0m\n\u001b[0;32m      6\u001b[0m \u001b[39mif\u001b[39;00m emotion \u001b[39mnot\u001b[39;00m \u001b[39min\u001b[39;00m observed_emotions:\n\u001b[0;32m      7\u001b[0m     \u001b[39mcontinue\u001b[39;00m\n\u001b[1;32m----> 8\u001b[0m feature\u001b[39m=\u001b[39mextract_feature(file, mfcc\u001b[39m=\u001b[39;49m\u001b[39mTrue\u001b[39;49;00m, chroma\u001b[39m=\u001b[39;49m\u001b[39mTrue\u001b[39;49;00m, mel\u001b[39m=\u001b[39;49m\u001b[39mTrue\u001b[39;49;00m)\n\u001b[0;32m      9\u001b[0m x\u001b[39m.\u001b[39mappend(feature)\n\u001b[0;32m     10\u001b[0m y\u001b[39m.\u001b[39mappend(emotion)\n",
      "Cell \u001b[1;32mIn[3], line 15\u001b[0m, in \u001b[0;36mextract_feature\u001b[1;34m(file_name, mfcc, chroma, mel)\u001b[0m\n\u001b[0;32m     13\u001b[0m     result\u001b[39m=\u001b[39mnp\u001b[39m.\u001b[39mhstack((result, chroma))\n\u001b[0;32m     14\u001b[0m \u001b[39mif\u001b[39;00m mel:\n\u001b[1;32m---> 15\u001b[0m     mel\u001b[39m=\u001b[39mnp\u001b[39m.\u001b[39mmean(librosa\u001b[39m.\u001b[39;49mfeature\u001b[39m.\u001b[39;49mmelspectrogram(X, sr\u001b[39m=\u001b[39;49msample_rate)\u001b[39m.\u001b[39mT,axis\u001b[39m=\u001b[39m\u001b[39m0\u001b[39m)\n\u001b[0;32m     16\u001b[0m     result\u001b[39m=\u001b[39mnp\u001b[39m.\u001b[39mhstack((result, mel))\n\u001b[0;32m     17\u001b[0m     \u001b[39mreturn\u001b[39;00m result\n",
      "\u001b[1;31mTypeError\u001b[0m: melspectrogram() takes 0 positional arguments but 1 positional argument (and 1 keyword-only argument) were given"
     ]
    }
   ],
   "source": [
    "talk(\"if you want to test the model on file from system speak system else speak live for recording your audio\")\n",
    "\n",
    "option=get_info()\n",
    "print(option)\n",
    "\n",
    "if option != \"live\":\n",
    "    talk(\"i had taken a file from your system wait for results\")\n",
    "    file=\"Actor_01/03-01-01-01-01-01-01.wav\"\n",
    "    \n",
    "else:\n",
    "    talk(\"start speaking something I am ready to record your audio\")\n",
    "    RATE=16000\n",
    "    RECORD_SECONDS = 15\n",
    "    CHUNKSIZE = 1024\n",
    "    # initialize portaudio\n",
    "    p = pyaudio.PyAudio()\n",
    "    stream = p.open(format=pyaudio.paInt16, channels=1, rate=RATE, input=True, frames_per_buffer=CHUNKSIZE)\n",
    "    frames = [] # A python-list of chunks(numpy.ndarray)\n",
    "    for _ in range(0, int(RATE / CHUNKSIZE * RECORD_SECONDS)):\n",
    "     data = stream.read(CHUNKSIZE)\n",
    "     frames.append(numpy.fromstring(data, dtype=numpy.int16))\n",
    "    #Convert the list of numpy-arrays into a 1D array (column-wise)\n",
    "    numpydata = numpy.hstack(frames)\n",
    "    # close stream\n",
    "    stream.stop_stream()\n",
    "    stream.close()\n",
    "    p.terminate()\n",
    "    import scipy.io.wavfile as wav\n",
    "    wav.write('out.wav',RATE,numpydata)\n",
    "    talk(\"your audio is recorded wait for some time to get results\")\n",
    "    file=\"out.wav\"\n",
    "    feature=extract_feature(file,mfcc=True,chroma=True,mel=True)\n",
    "\n",
    "\n",
    "x_train,x_test,y_train,y_test=load_data(test_size=0.2)\n",
    "\n",
    "# print((x_train.shape[0], x_test.shape[0]))\n",
    "# print(f'Features extracted: {x_train.shape[1]}')\n",
    "\n",
    "model=MLPClassifier(alpha=0.01, batch_size=256, epsilon=1e-08, hidden_layer_sizes=(300,), learning_rate='adaptive', max_iter=500)\n",
    "model.fit(x_train,y_train)\n",
    "y_pred=model.predict(x_test)\n",
    "y_pre=model.predict([feature])\n",
    "accuracy=accuracy_score(y_true=y_test, y_pred=y_pred)\n",
    "\n",
    "#print(\"Accuracy: {:.2f}%\".format(accuracy*100))\n",
    "\"\"\"\n",
    "Here I have taken a varible speaker to use it as speaker \n",
    "which speak our obsereved emotion and accuracy of the model\n",
    "\n",
    "\"\"\"\n",
    "speaker = pyttsx3.init()\n",
    "\"\"\"\n",
    "Here I have created funtion a talk which is used to talking purpose\n",
    "in the code we just have to pass the line or whatever we want to speak \n",
    "\n",
    "\"\"\"\n",
    "print(y_pre)\n",
    "talk(' the obeserved emotion from the given audio file is ')\n",
    "talk(y_pre)\n",
    "talk(' and the accuracy of detection of emotion is  ')\n",
    "accu=int(accuracy*100)\n",
    "print(accu)\n",
    "talk(accu)\n",
    "talk('%')"
   ]
  }
 ],
 "metadata": {
  "kernelspec": {
   "display_name": "Python 3",
   "language": "python",
   "name": "python3"
  },
  "language_info": {
   "codemirror_mode": {
    "name": "ipython",
    "version": 3
   },
   "file_extension": ".py",
   "mimetype": "text/x-python",
   "name": "python",
   "nbconvert_exporter": "python",
   "pygments_lexer": "ipython3",
   "version": "3.10.1"
  },
  "orig_nbformat": 4,
  "vscode": {
   "interpreter": {
    "hash": "7cd5389e321a07901155e6ec365821bfb0051e6b69e88cec8e01d7495002476f"
   }
  }
 },
 "nbformat": 4,
 "nbformat_minor": 2
}
